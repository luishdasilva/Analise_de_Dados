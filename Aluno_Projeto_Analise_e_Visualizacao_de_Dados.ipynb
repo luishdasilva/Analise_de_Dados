{
 "cells": [
  {
   "attachments": {
    "image.png": {
     "image/png": "[encoded data removed]"
    }
   },
   "cell_type": "markdown",
   "metadata": {},
   "source": [
    "# Projeto - Análise e Visualização de Dados\n",
    "\n",
    "Em nossas aulas, conhecemos as principais bibliotecas para se trabalhar com Análise e Visualização de Dados em Python. Aprendemos também como trabalhar com tabelas e fazer operações sobre elas, de modo que possamos analisar e inferir sobre uma base de dados existente.\n",
    "\n",
    "Para este projeto, imagine que o seu chefe disponibilize uma base de dados para que você possa analisá-la a partir dos seus conhecimentos em Python. Para essa tarefa, você deve utilizar o Matplotlib para visualização de alguns gráficos e demais bibliotecas, Pandas e NumPy para análise e manipulação dos dados. Com o correto uso das funcionalidades da linguagem, você será capaz de conduzir de maneira correta, a análise e visualização de dados, trabalho básico de um Cientista de Dados.\n",
    "Para iniciar o seu projeto, siga as instruções abaixo:\n",
    "\n",
    "* Faça o download dos arquivos disponibilizados nesta aula e armazene na mesma pasta em que irá armazenar os seus arquivos de código.\n",
    "* Carregue a tabela .csv para que você possa fazer a leitura de dados da mesma\n",
    "* Imprima parte do conteúdo para verificar se a leitura está acontecendo corretamente\n",
    "![image.png](attachment:image.png)\n",
    "\n",
    "**Obs: Nessa primeira etapa, indicada pelas instruções acima, eu já te ajudei, indicando o caminho para carregar a tabela, conforme código abaixo :D #ThanksGod**"
   ]
  },
  {
   "cell_type": "code",
   "execution_count": 7,
   "metadata": {},
   "outputs": [
    {
     "data": {
      "text/html": [
       "<div>\n",
       "<style scoped>\n",
       "    .dataframe tbody tr th:only-of-type {\n",
       "        vertical-align: middle;\n",
       "    }\n",
       "\n",
       "    .dataframe tbody tr th {\n",
       "        vertical-align: top;\n",
       "    }\n",
       "\n",
       "    .dataframe thead th {\n",
       "        text-align: right;\n",
       "    }\n",
       "</style>\n",
       "<table border=\"1\" class=\"dataframe\">\n",
       "  <thead>\n",
       "    <tr style=\"text-align: right;\">\n",
       "      <th></th>\n",
       "      <th>Gestor</th>\n",
       "      <th>Canal de Origem</th>\n",
       "      <th>Região</th>\n",
       "      <th>UF</th>\n",
       "      <th>Cidade</th>\n",
       "      <th>Sexo</th>\n",
       "      <th>Faixa Etária</th>\n",
       "      <th>Ano Abertura</th>\n",
       "      <th>Mês Abertura</th>\n",
       "      <th>Data Abertura</th>\n",
       "      <th>...</th>\n",
       "      <th>Como Comprou Contratou</th>\n",
       "      <th>Procurou Empresa</th>\n",
       "      <th>Respondida</th>\n",
       "      <th>Situação</th>\n",
       "      <th>Avaliação Reclamação</th>\n",
       "      <th>Nota do Consumidor</th>\n",
       "      <th>Análise da Recusa</th>\n",
       "      <th>Edição de Conteúdo</th>\n",
       "      <th>Interação do Gestor</th>\n",
       "      <th>Total</th>\n",
       "    </tr>\n",
       "  </thead>\n",
       "  <tbody>\n",
       "    <tr>\n",
       "      <th>0</th>\n",
       "      <td>Secretaria Nacional do Consumidor</td>\n",
       "      <td>Não identificado</td>\n",
       "      <td>SE</td>\n",
       "      <td>RJ</td>\n",
       "      <td>Itaboraí</td>\n",
       "      <td>M</td>\n",
       "      <td>entre 31 a 40 anos</td>\n",
       "      <td>2014</td>\n",
       "      <td>6</td>\n",
       "      <td>27/06/2014</td>\n",
       "      <td>...</td>\n",
       "      <td>Não comprei / contratei</td>\n",
       "      <td>S</td>\n",
       "      <td>S</td>\n",
       "      <td>Finalizada não avaliada</td>\n",
       "      <td>Não Avaliada</td>\n",
       "      <td>NaN</td>\n",
       "      <td>NaN</td>\n",
       "      <td>N</td>\n",
       "      <td>N</td>\n",
       "      <td>1</td>\n",
       "    </tr>\n",
       "    <tr>\n",
       "      <th>1</th>\n",
       "      <td>Instituto Estadual de Proteção e Defesa do Con...</td>\n",
       "      <td>Não identificado</td>\n",
       "      <td>SE</td>\n",
       "      <td>ES</td>\n",
       "      <td>Serra</td>\n",
       "      <td>F</td>\n",
       "      <td>entre 31 a 40 anos</td>\n",
       "      <td>2014</td>\n",
       "      <td>6</td>\n",
       "      <td>11/06/2014</td>\n",
       "      <td>...</td>\n",
       "      <td>Internet</td>\n",
       "      <td>S</td>\n",
       "      <td>S</td>\n",
       "      <td>Finalizada avaliada</td>\n",
       "      <td>Não Resolvida</td>\n",
       "      <td>1.0</td>\n",
       "      <td>NaN</td>\n",
       "      <td>N</td>\n",
       "      <td>N</td>\n",
       "      <td>1</td>\n",
       "    </tr>\n",
       "    <tr>\n",
       "      <th>2</th>\n",
       "      <td>Secretaria Nacional do Consumidor</td>\n",
       "      <td>Não identificado</td>\n",
       "      <td>SE</td>\n",
       "      <td>RJ</td>\n",
       "      <td>Volta Redonda</td>\n",
       "      <td>M</td>\n",
       "      <td>entre 31 a 40 anos</td>\n",
       "      <td>2014</td>\n",
       "      <td>6</td>\n",
       "      <td>27/06/2014</td>\n",
       "      <td>...</td>\n",
       "      <td>Internet</td>\n",
       "      <td>S</td>\n",
       "      <td>S</td>\n",
       "      <td>Finalizada avaliada</td>\n",
       "      <td>Resolvida</td>\n",
       "      <td>5.0</td>\n",
       "      <td>NaN</td>\n",
       "      <td>N</td>\n",
       "      <td>N</td>\n",
       "      <td>1</td>\n",
       "    </tr>\n",
       "    <tr>\n",
       "      <th>3</th>\n",
       "      <td>Instituto de Promoção e Defesa do Cidadão e Co...</td>\n",
       "      <td>Não identificado</td>\n",
       "      <td>NE</td>\n",
       "      <td>MA</td>\n",
       "      <td>São Luís</td>\n",
       "      <td>F</td>\n",
       "      <td>entre 31 a 40 anos</td>\n",
       "      <td>2014</td>\n",
       "      <td>5</td>\n",
       "      <td>29/05/2014</td>\n",
       "      <td>...</td>\n",
       "      <td>Não comprei / contratei</td>\n",
       "      <td>S</td>\n",
       "      <td>S</td>\n",
       "      <td>Finalizada avaliada</td>\n",
       "      <td>Resolvida</td>\n",
       "      <td>5.0</td>\n",
       "      <td>NaN</td>\n",
       "      <td>N</td>\n",
       "      <td>N</td>\n",
       "      <td>1</td>\n",
       "    </tr>\n",
       "    <tr>\n",
       "      <th>4</th>\n",
       "      <td>Secretaria de Desenvolvimento Social e Direito...</td>\n",
       "      <td>Não identificado</td>\n",
       "      <td>NE</td>\n",
       "      <td>PE</td>\n",
       "      <td>Recife</td>\n",
       "      <td>M</td>\n",
       "      <td>entre 21 a 30 anos</td>\n",
       "      <td>2014</td>\n",
       "      <td>6</td>\n",
       "      <td>30/06/2014</td>\n",
       "      <td>...</td>\n",
       "      <td>Internet</td>\n",
       "      <td>S</td>\n",
       "      <td>S</td>\n",
       "      <td>Finalizada não avaliada</td>\n",
       "      <td>Não Avaliada</td>\n",
       "      <td>NaN</td>\n",
       "      <td>NaN</td>\n",
       "      <td>N</td>\n",
       "      <td>N</td>\n",
       "      <td>1</td>\n",
       "    </tr>\n",
       "  </tbody>\n",
       "</table>\n",
       "<p>5 rows × 38 columns</p>\n",
       "</div>"
      ],
      "text/plain": [
       "                                              Gestor   Canal de Origem Região  \\\n",
       "0                  Secretaria Nacional do Consumidor  Não identificado     SE   \n",
       "1  Instituto Estadual de Proteção e Defesa do Con...  Não identificado     SE   \n",
       "2                  Secretaria Nacional do Consumidor  Não identificado     SE   \n",
       "3  Instituto de Promoção e Defesa do Cidadão e Co...  Não identificado     NE   \n",
       "4  Secretaria de Desenvolvimento Social e Direito...  Não identificado     NE   \n",
       "\n",
       "   UF         Cidade Sexo        Faixa Etária  Ano Abertura  Mês Abertura  \\\n",
       "0  RJ       Itaboraí    M  entre 31 a 40 anos          2014             6   \n",
       "1  ES          Serra    F  entre 31 a 40 anos          2014             6   \n",
       "2  RJ  Volta Redonda    M  entre 31 a 40 anos          2014             6   \n",
       "3  MA       São Luís    F  entre 31 a 40 anos          2014             5   \n",
       "4  PE         Recife    M  entre 21 a 30 anos          2014             6   \n",
       "\n",
       "  Data Abertura  ...   Como Comprou Contratou Procurou Empresa Respondida  \\\n",
       "0    27/06/2014  ...  Não comprei / contratei                S          S   \n",
       "1    11/06/2014  ...                 Internet                S          S   \n",
       "2    27/06/2014  ...                 Internet                S          S   \n",
       "3    29/05/2014  ...  Não comprei / contratei                S          S   \n",
       "4    30/06/2014  ...                 Internet                S          S   \n",
       "\n",
       "                  Situação Avaliação Reclamação Nota do Consumidor  \\\n",
       "0  Finalizada não avaliada         Não Avaliada                NaN   \n",
       "1      Finalizada avaliada        Não Resolvida                1.0   \n",
       "2      Finalizada avaliada            Resolvida                5.0   \n",
       "3      Finalizada avaliada            Resolvida                5.0   \n",
       "4  Finalizada não avaliada         Não Avaliada                NaN   \n",
       "\n",
       "  Análise da Recusa Edição de Conteúdo Interação do Gestor Total  \n",
       "0               NaN                  N                   N     1  \n",
       "1               NaN                  N                   N     1  \n",
       "2               NaN                  N                   N     1  \n",
       "3               NaN                  N                   N     1  \n",
       "4               NaN                  N                   N     1  \n",
       "\n",
       "[5 rows x 38 columns]"
      ]
     },
     "execution_count": 7,
     "metadata": {},
     "output_type": "execute_result"
    }
   ],
   "source": [
    "# importa a biblioteca pandas\n",
    "import numpy as np\n",
    "import pandas as pd\n",
    "# armazena os dados da tabela em uma estrutura tipo data frame\n",
    "df = pd.read_csv(\"1-dadosgovbr---2014.csv\",sep = ';', encoding=\"latin-1\")\n",
    "# visualizar alguns dados da tabela carregada\n",
    "df.head()"
   ]
  },
  {
   "cell_type": "markdown",
   "metadata": {},
   "source": [
    "Aí vai uma dica preciosa: Para responder questões relacionadas a frequência de ocorrências, como exemplo, você pode testar o comando a seguir:\n",
    "         \n",
    "         df.Região.value_counts()\n",
    "         \n",
    "O código acima retorna a quantidade de ocorrências de registros de uma determinada região. Use essa lógica quando necessário.\n",
    "Em relação as demais questões, consulte diversas fontes, caso necessário, para responder corretamente. Dessa forma, tendo como base o data frame em questão, responda as questões relacionadas:\n",
    "\n",
    "### Análise de Dados\n",
    "\n",
    "1. Qual a quantidade de reclamações registradas?\n",
    "2. Qual é o tempo médio, máximo e mínimo de resposta?\n",
    "3. Qual é a nota média, máxima e mínima do consumidor?\n",
    "4. Como podemos correlacionar a nota do consumidor com o tempo de resposta? Explique.\n",
    "5. Qual a quantidade de reclamações por Sexo?\n",
    "6. Qual a quantidade de reclamações por Estado?\n",
    "4. Qual é a porcentagem de reclamações registradas e não respondidas?\n",
    "\n",
    "### Visualização de Dados\n",
    "\n",
    "Neste momento iremos trabalhar com visualização de dados. Antes de iniciar a impressão dos gráficos, trate de fazer as configurações iniciais para que a impressão ocorra no Jupyter de maneira correta e com todos os requisitos necessários para melhoria da apresentação como um todo. Faça o melhor possível, como se fosse apresentar para o seu chefe. Siga as instruções a seguir:\n",
    "\n",
    "5. Gere um gráfico com titulo, nome dos eixos, cor e legenda para as seguintes situações:\n",
    "   * a) Frequência de reclamações por sexo\n",
    "   * b) Frequencia de reclamações por estado\n",
    "   * c) Frequência de reclamações respondidas e não respondidas\n",
    "6. Imagine que você é um Cientista de Dados responsável por medir a satisfação dos clientes. Para que você possa surpreender seu chefe, você deve fazer duas análises importantes sobre o data frame, incluindo no mínimo dois gráficos com suas devidas personalizações de titulo, nome dos eixos, legenda, estilos etc. Considere que, ao trazer informações relevantes para a empresa em que trabalha, mais chances de ter o seu trabalho reconhecido e de ser um profissional com maior valor no mercado. Capriche nos gráficos!"
   ]
  },
  {
   "cell_type": "code",
   "execution_count": 90,
   "metadata": {
    "scrolled": true
   },
   "outputs": [
    {
     "data": {
      "text/plain": [
       "43987"
      ]
     },
     "execution_count": 90,
     "metadata": {},
     "output_type": "execute_result"
    }
   ],
   "source": [
    "# Resposta questão 1:  \n",
    "df.Total.sum()"
   ]
  },
  {
   "cell_type": "code",
   "execution_count": 5,
   "metadata": {},
   "outputs": [
    {
     "name": "stdout",
     "output_type": "stream",
     "text": [
      "0.0\n",
      "6.667572269488335\n",
      "13.0\n"
     ]
    }
   ],
   "source": [
    "# Resposta questão 2: \n",
    "\n",
    "df.columns\n",
    "Tempo_Resposta =df['Tempo Resposta']\n",
    "print(Tempo_Resposta.min())\n",
    "print(Tempo_Resposta.mean())\n",
    "print(Tempo_Resposta.max())\n"
   ]
  },
  {
   "cell_type": "code",
   "execution_count": 6,
   "metadata": {},
   "outputs": [
    {
     "name": "stdout",
     "output_type": "stream",
     "text": [
      "1.0\n",
      "3.0\n",
      "5.0\n"
     ]
    }
   ],
   "source": [
    "# Resposta questão 3: \n",
    "df.columns\n",
    "N_C = df['Nota do Consumidor']\n",
    "print(N_C.min())\n",
    "print(N_C.median())\n",
    "print(N_C.max())"
   ]
  },
  {
   "cell_type": "code",
   "execution_count": 13,
   "metadata": {},
   "outputs": [
    {
     "name": "stdout",
     "output_type": "stream",
     "text": [
      "0         5.0\n",
      "1         6.0\n",
      "2         5.0\n",
      "3         0.0\n",
      "4         1.0\n",
      "         ... \n",
      "43982    10.0\n",
      "43983     5.0\n",
      "43984     3.0\n",
      "43985     8.0\n",
      "43986     0.0\n",
      "Name: Tempo Resposta, Length: 43987, dtype: float64 0        NaN\n",
      "1        1.0\n",
      "2        5.0\n",
      "3        5.0\n",
      "4        NaN\n",
      "        ... \n",
      "43982    NaN\n",
      "43983    1.0\n",
      "43984    1.0\n",
      "43985    NaN\n",
      "43986    3.0\n",
      "Name: Nota do Consumidor, Length: 43987, dtype: float64\n"
     ]
    }
   ],
   "source": [
    "# Resposta questão 4: \n",
    "df.columns\n",
    "N_C = df['Nota do Consumidor']\n",
    "T_R = df['Tempo Resposta']\n",
    "print(T_R,N_C)\n",
    "# Em alguns casos um alto tempo de resposta pode ocasionar em notas menores , por isso deve ter sempre uma analise detalhada para verificar "
   ]
  },
  {
   "cell_type": "code",
   "execution_count": 111,
   "metadata": {
    "scrolled": true
   },
   "outputs": [
    {
     "name": "stdout",
     "output_type": "stream",
     "text": [
      "F    16092\n",
      "Name: Sexo, dtype: int64\n"
     ]
    }
   ],
   "source": [
    "# Resposta 5\n",
    "df.columns\n",
    "M = df['Sexo'].unique()\n",
    "C = df['Sexo'].value_counts()\n",
    "CM = C[:1]\n",
    "CF = C[1:]\n",
    "print(CF)"
   ]
  },
  {
   "cell_type": "code",
   "execution_count": 28,
   "metadata": {},
   "outputs": [
    {
     "name": "stdout",
     "output_type": "stream",
     "text": [
      "SP    11882\n",
      "PR     6140\n",
      "RJ     4907\n",
      "MG     4186\n",
      "BA     2443\n",
      "RS     1941\n",
      "DF     1805\n",
      "PE     1626\n",
      "SC     1458\n",
      "MA     1082\n",
      "ES     1081\n",
      "CE     1068\n",
      "MT     1012\n",
      "GO      886\n",
      "MS      531\n",
      "AC      449\n",
      "PB      343\n",
      "AM      291\n",
      "PA      211\n",
      "RN      160\n",
      "RO      119\n",
      "AL      104\n",
      "SE       97\n",
      "PI       77\n",
      "TO       46\n",
      "RR       24\n",
      "AP       18\n",
      "Name: UF, dtype: int64\n"
     ]
    }
   ],
   "source": [
    "# Resposta 6\n",
    "df.columns\n",
    "E = df['UF'].unique()\n",
    "C = df['UF'].value_counts()\n",
    "print(C)"
   ]
  },
  {
   "cell_type": "code",
   "execution_count": 142,
   "metadata": {
    "scrolled": true
   },
   "outputs": [
    {
     "name": "stdout",
     "output_type": "stream",
     "text": [
      "43987\n",
      "2046\n",
      "S    41961\n",
      "N     2026\n",
      "Name: Respondida, dtype: int64\n"
     ]
    }
   ],
   "source": [
    "# Resposta 7\n",
    "df.columns\n",
    "RR = df['Problema'].count()\n",
    "ARR = df['Análise da Recusa'].count()\n",
    "AR = df['Respondida'].unique()\n",
    "AA = df['Respondida'].value_counts()\n",
    "A = AA[:]\n",
    "print(RR)\n",
    "print(ARR)\n",
    "print(A)"
   ]
  },
  {
   "cell_type": "code",
   "execution_count": 135,
   "metadata": {},
   "outputs": [
    {
     "data": {
      "image/png": "[encoded data removed]",
      "text/plain": [
       "<Figure size 460.8x316.8 with 1 Axes>"
      ]
     },
     "metadata": {
      "needs_background": "light"
     },
     "output_type": "display_data"
    }
   ],
   "source": [
    "# Resposta questão 5a: \n",
    "import matplotlib.pyplot as plt\n",
    "\n",
    "\n",
    "t = ['Masculino','Feminino']\n",
    "Sexo = df['Sexo'].value_counts().tolist()\n",
    "\n",
    "plt.bar(t, Sexo[:],color='gold',label='Diferença')\n",
    "plt.title('Curso Python')\n",
    "plt.xlabel('Sexo')\n",
    "plt.ylabel('Eixo Y')\n",
    "plt.legend()\n",
    "plt.show()\n",
    "\n",
    "\n"
   ]
  },
  {
   "cell_type": "code",
   "execution_count": 210,
   "metadata": {},
   "outputs": [
    {
     "data": {
      "image/png": "[encoded data removed]",
      "text/plain": [
       "<Figure size 460.8x316.8 with 1 Axes>"
      ]
     },
     "metadata": {
      "needs_background": "light"
     },
     "output_type": "display_data"
    }
   ],
   "source": [
    "# Resposta questão 5b: \n",
    "\n",
    "t = ['SP','PR','RJ','MG','BA','RS','DF','PE','SC','MA','ES','CE','MT','GO','MS','AC','PB','AM','PA','RN','RO','AL','SE','PI','TO','RR','AP']\n",
    "UF = df['UF'].value_counts().tolist()\n",
    "plt.bar(t, UF[:],color='gold',label='Diferença')\n",
    "plt.title('Curso Python')\n",
    "plt.xlabel('Estado')\n",
    "plt.ylabel('Eixo Y')\n",
    "plt.legend()\n",
    "plt.show()\n"
   ]
  },
  {
   "cell_type": "code",
   "execution_count": 176,
   "metadata": {},
   "outputs": [
    {
     "data": {
      "image/png": "[encoded data removed]",
      "text/plain": [
       "<Figure size 460.8x316.8 with 1 Axes>"
      ]
     },
     "metadata": {
      "needs_background": "light"
     },
     "output_type": "display_data"
    }
   ],
   "source": [
    "# Resposta questão 5c: \n",
    "t = ['Respondida','Não Respondida']\n",
    "R = df['Respondida'].value_counts().tolist()\n",
    "plt.bar(t, R[:],color='gold',label='Diferença')\n",
    "plt.title('Curso Python')\n",
    "plt.xlabel('Estado')\n",
    "plt.ylabel('Eixo Y')\n",
    "plt.legend()\n",
    "plt.show()"
   ]
  },
  {
   "cell_type": "code",
   "execution_count": 216,
   "metadata": {},
   "outputs": [
    {
     "data": {
      "image/png": "[encoded data removed]",
      "text/plain": [
       "<Figure size 460.8x316.8 with 1 Axes>"
      ]
     },
     "metadata": {
      "needs_background": "light"
     },
     "output_type": "display_data"
    }
   ],
   "source": [
    "# Resposta questão 6a: \n",
    "t = ['Tel','Int','Lojaf','NC/C','Domicílio','GP','SFE','Catálogo']\n",
    "CC = df['Como Comprou Contratou'].value_counts().tolist()\n",
    "plt.bar(t, CC[:],color='gold',label='Diferença')\n",
    "plt.title('Curso Python')\n",
    "plt.xlabel('Modos de Compra')\n",
    "plt.ylabel('Volume')\n",
    "plt.legend()\n",
    "plt.show()\n"
   ]
  },
  {
   "cell_type": "code",
   "execution_count": 220,
   "metadata": {},
   "outputs": [
    {
     "data": {
      "image/png": "[encoded data removed]",
      "text/plain": [
       "<Figure size 460.8x316.8 with 1 Axes>"
      ]
     },
     "metadata": {
      "needs_background": "light"
     },
     "output_type": "display_data"
    }
   ],
   "source": [
    "# Resposta questão 6b: \n",
    "df.columns\n",
    "t = ['Sim', 'Não']\n",
    "PE = df['Procurou Empresa'].value_counts().tolist()\n",
    "plt.bar(t, PE[:],color='gold',label='Diferença')\n",
    "plt.title('Curso Python')\n",
    "plt.xlabel('Procurou a Empresa')\n",
    "plt.ylabel('Volume')\n",
    "plt.legend()\n",
    "plt.show()"
   ]
  },
  {
   "cell_type": "code",
   "execution_count": 218,
   "metadata": {},
   "outputs": [
    {
     "name": "stdout",
     "output_type": "stream",
     "text": [
      "S    40066\n",
      "N     3921\n",
      "Name: Procurou Empresa, dtype: int64\n"
     ]
    }
   ],
   "source": []
  },
  {
   "cell_type": "code",
   "execution_count": null,
   "metadata": {},
   "outputs": [],
   "source": []
  }
 ],
 "metadata": {
  "kernelspec": {
   "display_name": "Python 3",
   "language": "python",
   "name": "python3"
  },
  "language_info": {
   "codemirror_mode": {
    "name": "ipython",
    "version": 3
   },
   "file_extension": ".py",
   "mimetype": "text/x-python",
   "name": "python",
   "nbconvert_exporter": "python",
   "pygments_lexer": "ipython3",
   "version": "3.8.8"
  }
 },
 "nbformat": 4,
 "nbformat_minor": 4
}
